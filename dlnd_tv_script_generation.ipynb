{
 "cells": [
  {
   "cell_type": "markdown",
   "metadata": {
    "deletable": true,
    "editable": true
   },
   "source": [
    "# TV Script Generation\n",
    "In this project, you'll generate your own [Simpsons](https://en.wikipedia.org/wiki/The_Simpsons) TV scripts using RNNs.  You'll be using part of the [Simpsons dataset](https://www.kaggle.com/wcukierski/the-simpsons-by-the-data) of scripts from 27 seasons.  The Neural Network you'll build will generate a new TV script for a scene at [Moe's Tavern](https://simpsonswiki.com/wiki/Moe's_Tavern).\n",
    "## Get the Data\n",
    "The data is already provided for you.  You'll be using a subset of the original dataset.  It consists of only the scenes in Moe's Tavern.  This doesn't include other versions of the tavern, like \"Moe's Cavern\", \"Flaming Moe's\", \"Uncle Moe's Family Feed-Bag\", etc.."
   ]
  },
  {
   "cell_type": "code",
   "execution_count": 1,
   "metadata": {
    "collapsed": false,
    "deletable": true,
    "editable": true
   },
   "outputs": [],
   "source": [
    "\"\"\"\n",
    "DON'T MODIFY ANYTHING IN THIS CELL\n",
    "\"\"\"\n",
    "import helper\n",
    "\n",
    "data_dir = './data/simpsons/moes_tavern_lines.txt'\n",
    "text = helper.load_data(data_dir)\n",
    "# Ignore notice, since we don't use it for analysing the data\n",
    "text = text[81:]"
   ]
  },
  {
   "cell_type": "markdown",
   "metadata": {
    "deletable": true,
    "editable": true
   },
   "source": [
    "## Explore the Data\n",
    "Play around with `view_sentence_range` to view different parts of the data."
   ]
  },
  {
   "cell_type": "code",
   "execution_count": 2,
   "metadata": {
    "collapsed": false,
    "deletable": true,
    "editable": true
   },
   "outputs": [
    {
     "name": "stdout",
     "output_type": "stream",
     "text": [
      "Dataset Stats\n",
      "Roughly the number of unique words: 11492\n",
      "Number of scenes: 262\n",
      "Average number of sentences in each scene: 15.248091603053435\n",
      "Number of lines: 4257\n",
      "Average number of words in each line: 11.50434578341555\n",
      "\n",
      "The sentences 0 to 10:\n",
      "Moe_Szyslak: (INTO PHONE) Moe's Tavern. Where the elite meet to drink.\n",
      "Bart_Simpson: Eh, yeah, hello, is Mike there? Last name, Rotch.\n",
      "Moe_Szyslak: (INTO PHONE) Hold on, I'll check. (TO BARFLIES) Mike Rotch. Mike Rotch. Hey, has anybody seen Mike Rotch, lately?\n",
      "Moe_Szyslak: (INTO PHONE) Listen you little puke. One of these days I'm gonna catch you, and I'm gonna carve my name on your back with an ice pick.\n",
      "Moe_Szyslak: What's the matter Homer? You're not your normal effervescent self.\n",
      "Homer_Simpson: I got my problems, Moe. Give me another one.\n",
      "Moe_Szyslak: Homer, hey, you should not drink to forget your problems.\n",
      "Barney_Gumble: Yeah, you should only drink to enhance your social skills.\n",
      "\n",
      "\n"
     ]
    }
   ],
   "source": [
    "view_sentence_range = (0, 10)\n",
    "\n",
    "\"\"\"\n",
    "DON'T MODIFY ANYTHING IN THIS CELL\n",
    "\"\"\"\n",
    "import numpy as np\n",
    "\n",
    "print('Dataset Stats')\n",
    "print('Roughly the number of unique words: {}'.format(len({word: None for word in text.split()})))\n",
    "scenes = text.split('\\n\\n')\n",
    "print('Number of scenes: {}'.format(len(scenes)))\n",
    "sentence_count_scene = [scene.count('\\n') for scene in scenes]\n",
    "print('Average number of sentences in each scene: {}'.format(np.average(sentence_count_scene)))\n",
    "\n",
    "sentences = [sentence for scene in scenes for sentence in scene.split('\\n')]\n",
    "print('Number of lines: {}'.format(len(sentences)))\n",
    "word_count_sentence = [len(sentence.split()) for sentence in sentences]\n",
    "print('Average number of words in each line: {}'.format(np.average(word_count_sentence)))\n",
    "\n",
    "print()\n",
    "print('The sentences {} to {}:'.format(*view_sentence_range))\n",
    "print('\\n'.join(text.split('\\n')[view_sentence_range[0]:view_sentence_range[1]]))"
   ]
  },
  {
   "cell_type": "markdown",
   "metadata": {
    "deletable": true,
    "editable": true
   },
   "source": [
    "## Implement Preprocessing Functions\n",
    "The first thing to do to any dataset is preprocessing.  Implement the following preprocessing functions below:\n",
    "- Lookup Table\n",
    "- Tokenize Punctuation\n",
    "\n",
    "### Lookup Table\n",
    "To create a word embedding, you first need to transform the words to ids.  In this function, create two dictionaries:\n",
    "- Dictionary to go from the words to an id, we'll call `vocab_to_int`\n",
    "- Dictionary to go from the id to word, we'll call `int_to_vocab`\n",
    "\n",
    "Return these dictionaries in the following tuple `(vocab_to_int, int_to_vocab)`"
   ]
  },
  {
   "cell_type": "code",
   "execution_count": 4,
   "metadata": {
    "collapsed": false,
    "deletable": true,
    "editable": true
   },
   "outputs": [
    {
     "name": "stdout",
     "output_type": "stream",
     "text": [
      "Tests Passed\n"
     ]
    }
   ],
   "source": [
    "import numpy as np\n",
    "import problem_unittests as tests\n",
    "\n",
    "def create_lookup_tables(text):\n",
    "    \"\"\"\n",
    "    Create lookup tables for vocabulary\n",
    "    :param text: The text of tv scripts split into words\n",
    "    :return: A tuple of dicts (vocab_to_int, int_to_vocab)\n",
    "    \"\"\"\n",
    "    words = list(enumerate(set(text)))\n",
    "    word_to_int = {w:i for i, w in words}\n",
    "    int_to_word = {i:w for i, w in words}\n",
    "    return word_to_int, int_to_word\n",
    "\n",
    "\n",
    "\"\"\"\n",
    "DON'T MODIFY ANYTHING IN THIS CELL THAT IS BELOW THIS LINE\n",
    "\"\"\"\n",
    "tests.test_create_lookup_tables(create_lookup_tables)"
   ]
  },
  {
   "cell_type": "markdown",
   "metadata": {
    "deletable": true,
    "editable": true
   },
   "source": [
    "### Tokenize Punctuation\n",
    "We'll be splitting the script into a word array using spaces as delimiters.  However, punctuations like periods and exclamation marks make it hard for the neural network to distinguish between the word \"bye\" and \"bye!\".\n",
    "\n",
    "Implement the function `token_lookup` to return a dict that will be used to tokenize symbols like \"!\" into \"||Exclamation_Mark||\".  Create a dictionary for the following symbols where the symbol is the key and value is the token:\n",
    "- Period ( . )\n",
    "- Comma ( , )\n",
    "- Quotation Mark ( \" )\n",
    "- Semicolon ( ; )\n",
    "- Exclamation mark ( ! )\n",
    "- Question mark ( ? )\n",
    "- Left Parentheses ( ( )\n",
    "- Right Parentheses ( ) )\n",
    "- Dash ( -- )\n",
    "- Return ( \\n )\n",
    "\n",
    "This dictionary will be used to token the symbols and add the delimiter (space) around it.  This separates the symbols as it's own word, making it easier for the neural network to predict on the next word. Make sure you don't use a token that could be confused as a word. Instead of using the token \"dash\", try using something like \"||dash||\"."
   ]
  },
  {
   "cell_type": "code",
   "execution_count": 9,
   "metadata": {
    "collapsed": false,
    "deletable": true,
    "editable": true
   },
   "outputs": [
    {
     "name": "stdout",
     "output_type": "stream",
     "text": [
      "Tests Passed\n"
     ]
    }
   ],
   "source": [
    "def token_lookup():\n",
    "    \"\"\"\n",
    "    Generate a dict to turn punctuation into a token.\n",
    "    :return: Tokenize dictionary where the key is the punctuation and the value is the token\n",
    "    \"\"\"\n",
    "    return {'.':'||Period||',\n",
    "            ',': '||Comma||',\n",
    "            '\"': '||Quotation_Mark||',\n",
    "            ';': '||Semicolon||',\n",
    "            '!': '||Exclamation_mark||',\n",
    "            '?': '||Question_mark||',\n",
    "            '(': '||Left_Parentheses||',\n",
    "            ')': '||Right_Parentheses||',\n",
    "            '--': '||Dash||',\n",
    "            '\\n':'||Return||',\n",
    "           }\n",
    "\n",
    "\"\"\"\n",
    "DON'T MODIFY ANYTHING IN THIS CELL THAT IS BELOW THIS LINE\n",
    "\"\"\"\n",
    "tests.test_tokenize(token_lookup)"
   ]
  },
  {
   "cell_type": "markdown",
   "metadata": {
    "deletable": true,
    "editable": true
   },
   "source": [
    "## Preprocess all the data and save it\n",
    "Running the code cell below will preprocess all the data and save it to file."
   ]
  },
  {
   "cell_type": "code",
   "execution_count": 10,
   "metadata": {
    "collapsed": false,
    "deletable": true,
    "editable": true
   },
   "outputs": [],
   "source": [
    "\"\"\"\n",
    "DON'T MODIFY ANYTHING IN THIS CELL\n",
    "\"\"\"\n",
    "# Preprocess Training, Validation, and Testing Data\n",
    "helper.preprocess_and_save_data(data_dir, token_lookup, create_lookup_tables)"
   ]
  },
  {
   "cell_type": "markdown",
   "metadata": {
    "deletable": true,
    "editable": true
   },
   "source": [
    "# Check Point\n",
    "This is your first checkpoint. If you ever decide to come back to this notebook or have to restart the notebook, you can start from here. The preprocessed data has been saved to disk."
   ]
  },
  {
   "cell_type": "code",
   "execution_count": 11,
   "metadata": {
    "collapsed": false,
    "deletable": true,
    "editable": true
   },
   "outputs": [],
   "source": [
    "\"\"\"\n",
    "DON'T MODIFY ANYTHING IN THIS CELL\n",
    "\"\"\"\n",
    "import helper\n",
    "import numpy as np\n",
    "import problem_unittests as tests\n",
    "\n",
    "int_text, vocab_to_int, int_to_vocab, token_dict = helper.load_preprocess()"
   ]
  },
  {
   "cell_type": "markdown",
   "metadata": {
    "deletable": true,
    "editable": true
   },
   "source": [
    "## Build the Neural Network\n",
    "You'll build the components necessary to build a RNN by implementing the following functions below:\n",
    "- get_inputs\n",
    "- get_init_cell\n",
    "- get_embed\n",
    "- build_rnn\n",
    "- build_nn\n",
    "- get_batches\n",
    "\n",
    "### Check the Version of TensorFlow and Access to GPU"
   ]
  },
  {
   "cell_type": "code",
   "execution_count": 15,
   "metadata": {
    "collapsed": false,
    "deletable": true,
    "editable": true
   },
   "outputs": [
    {
     "name": "stdout",
     "output_type": "stream",
     "text": [
      "TensorFlow Version: 1.0.1\n"
     ]
    },
    {
     "name": "stderr",
     "output_type": "stream",
     "text": [
      "/home/roke/anaconda/envs/research/lib/python3.5/site-packages/ipykernel/__main__.py:14: UserWarning: No GPU found. Please use a GPU to train your neural network.\n"
     ]
    }
   ],
   "source": [
    "\"\"\"\n",
    "DON'T MODIFY ANYTHING IN THIS CELL\n",
    "\"\"\"\n",
    "from distutils.version import LooseVersion\n",
    "import warnings\n",
    "import tensorflow as tf\n",
    "\n",
    "# Check TensorFlow Version\n",
    "assert LooseVersion(tf.__version__) >= LooseVersion('1.0'), 'Please use TensorFlow version 1.0 or newer'\n",
    "print('TensorFlow Version: {}'.format(tf.__version__))\n",
    "\n",
    "# Check for a GPU\n",
    "if not tf.test.gpu_device_name():\n",
    "    warnings.warn('No GPU found. Please use a GPU to train your neural network.')\n",
    "else:\n",
    "    print('Default GPU Device: {}'.format(tf.test.gpu_device_name()))"
   ]
  },
  {
   "cell_type": "markdown",
   "metadata": {
    "deletable": true,
    "editable": true
   },
   "source": [
    "### Input\n",
    "Implement the `get_inputs()` function to create TF Placeholders for the Neural Network.  It should create the following placeholders:\n",
    "- Input text placeholder named \"input\" using the [TF Placeholder](https://www.tensorflow.org/api_docs/python/tf/placeholder) `name` parameter.\n",
    "- Targets placeholder\n",
    "- Learning Rate placeholder\n",
    "\n",
    "Return the placeholders in the following the tuple `(Input, Targets, LearingRate)`"
   ]
  },
  {
   "cell_type": "code",
   "execution_count": 18,
   "metadata": {
    "collapsed": false,
    "deletable": true,
    "editable": true
   },
   "outputs": [
    {
     "name": "stdout",
     "output_type": "stream",
     "text": [
      "Tests Passed\n"
     ]
    }
   ],
   "source": [
    "def get_inputs():\n",
    "    \"\"\"\n",
    "    Create TF Placeholders for input, targets, and learning rate.\n",
    "    :return: Tuple (input, targets, learning rate)\n",
    "    \"\"\"\n",
    "    _input = tf.placeholder(tf.int32, [None, None], name=\"input\")\n",
    "    targets = tf.placeholder(tf.int32, [None, None], name=\"targets\")\n",
    "    learning_rate = tf.placeholder(tf.float32, name=\"learning_rate\")\n",
    "    return _input, targets, learning_rate\n",
    "\n",
    "\"\"\"\n",
    "DON'T MODIFY ANYTHING IN THIS CELL THAT IS BELOW THIS LINE\n",
    "\"\"\"\n",
    "tests.test_get_inputs(get_inputs)"
   ]
  },
  {
   "cell_type": "markdown",
   "metadata": {
    "deletable": true,
    "editable": true
   },
   "source": [
    "### Build RNN Cell and Initialize\n",
    "Stack one or more [`BasicLSTMCells`](https://www.tensorflow.org/api_docs/python/tf/contrib/rnn/BasicLSTMCell) in a [`MultiRNNCell`](https://www.tensorflow.org/api_docs/python/tf/contrib/rnn/MultiRNNCell).\n",
    "- The Rnn size should be set using `rnn_size`\n",
    "- Initalize Cell State using the MultiRNNCell's [`zero_state()`](https://www.tensorflow.org/api_docs/python/tf/contrib/rnn/MultiRNNCell#zero_state) function\n",
    "    - Apply the name \"initial_state\" to the initial state using [`tf.identity()`](https://www.tensorflow.org/api_docs/python/tf/identity)\n",
    "\n",
    "Return the cell and initial state in the following tuple `(Cell, InitialState)`"
   ]
  },
  {
   "cell_type": "code",
   "execution_count": 21,
   "metadata": {
    "collapsed": false,
    "deletable": true,
    "editable": true
   },
   "outputs": [
    {
     "name": "stdout",
     "output_type": "stream",
     "text": [
      "Tests Passed\n"
     ]
    }
   ],
   "source": [
    "def get_init_cell(batch_size, rnn_size):\n",
    "    \"\"\"\n",
    "    Create an RNN Cell and initialize it.\n",
    "    :param batch_size: Size of batches\n",
    "    :param rnn_size: Size of RNNs\n",
    "    :return: Tuple (cell, initialize state)\n",
    "    \"\"\"\n",
    "    n_layers = 2\n",
    "    lstm = tf.contrib.rnn.BasicLSTMCell(rnn_size)\n",
    "    cell = tf.contrib.rnn.MultiRNNCell([lstm]*n_layers)\n",
    "    state = cell.zero_state(batch_size, tf.float32)\n",
    "    state = tf.identity(state, 'initial_state')\n",
    "    return (cell, state)\n",
    "\n",
    "\"\"\"\n",
    "DON'T MODIFY ANYTHING IN THIS CELL THAT IS BELOW THIS LINE\n",
    "\"\"\"\n",
    "tests.test_get_init_cell(get_init_cell)"
   ]
  },
  {
   "cell_type": "markdown",
   "metadata": {
    "deletable": true,
    "editable": true
   },
   "source": [
    "### Word Embedding\n",
    "Apply embedding to `input_data` using TensorFlow.  Return the embedded sequence."
   ]
  },
  {
   "cell_type": "code",
   "execution_count": 22,
   "metadata": {
    "collapsed": false,
    "deletable": true,
    "editable": true
   },
   "outputs": [
    {
     "name": "stdout",
     "output_type": "stream",
     "text": [
      "Tests Passed\n"
     ]
    }
   ],
   "source": [
    "def get_embed(input_data, vocab_size, embed_dim):\n",
    "    \"\"\"\n",
    "    Create embedding for <input_data>.\n",
    "    :param input_data: TF placeholder for text input.\n",
    "    :param vocab_size: Number of words in vocabulary.\n",
    "    :param embed_dim: Number of embedding dimensions\n",
    "    :return: Embedded input.\n",
    "    \"\"\"\n",
    "    embedding = tf.Variable(tf.random_uniform([vocab_size, embed_dim], -1, 1))\n",
    "    embed = tf.nn.embedding_lookup(embedding, input_data)\n",
    "    return embed\n",
    "\n",
    "\"\"\"\n",
    "DON'T MODIFY ANYTHING IN THIS CELL THAT IS BELOW THIS LINE\n",
    "\"\"\"\n",
    "tests.test_get_embed(get_embed)"
   ]
  },
  {
   "cell_type": "markdown",
   "metadata": {
    "deletable": true,
    "editable": true
   },
   "source": [
    "### Build RNN\n",
    "You created a RNN Cell in the `get_init_cell()` function.  Time to use the cell to create a RNN.\n",
    "- Build the RNN using the [`tf.nn.dynamic_rnn()`](https://www.tensorflow.org/api_docs/python/tf/nn/dynamic_rnn)\n",
    " - Apply the name \"final_state\" to the final state using [`tf.identity()`](https://www.tensorflow.org/api_docs/python/tf/identity)\n",
    "\n",
    "Return the outputs and final_state state in the following tuple `(Outputs, FinalState)` "
   ]
  },
  {
   "cell_type": "code",
   "execution_count": 23,
   "metadata": {
    "collapsed": false,
    "deletable": true,
    "editable": true
   },
   "outputs": [
    {
     "name": "stdout",
     "output_type": "stream",
     "text": [
      "Tests Passed\n"
     ]
    }
   ],
   "source": [
    "def build_rnn(cell, inputs):\n",
    "    \"\"\"\n",
    "    Create a RNN using a RNN Cell\n",
    "    :param cell: RNN Cell\n",
    "    :param inputs: Input text data\n",
    "    :return: Tuple (Outputs, Final State)\n",
    "    \"\"\"\n",
    "    outputs, state = tf.nn.dynamic_rnn(cell, inputs, dtype=tf.float32)\n",
    "    state = tf.identity(state, name=\"final_state\")\n",
    "    return (outputs, state)\n",
    "\n",
    "\"\"\"\n",
    "DON'T MODIFY ANYTHING IN THIS CELL THAT IS BELOW THIS LINE\n",
    "\"\"\"\n",
    "tests.test_build_rnn(build_rnn)"
   ]
  },
  {
   "cell_type": "markdown",
   "metadata": {
    "deletable": true,
    "editable": true
   },
   "source": [
    "### Build the Neural Network\n",
    "Apply the functions you implemented above to:\n",
    "- Apply embedding to `input_data` using your `get_embed(input_data, vocab_size, embed_dim)` function.\n",
    "- Build RNN using `cell` and your `build_rnn(cell, inputs)` function.\n",
    "- Apply a fully connected layer with a linear activation and `vocab_size` as the number of outputs.\n",
    "\n",
    "Return the logits and final state in the following tuple (Logits, FinalState) "
   ]
  },
  {
   "cell_type": "code",
   "execution_count": 28,
   "metadata": {
    "collapsed": false,
    "deletable": true,
    "editable": true
   },
   "outputs": [
    {
     "name": "stdout",
     "output_type": "stream",
     "text": [
      "Tests Passed\n"
     ]
    }
   ],
   "source": [
    "def build_nn(cell, rnn_size, input_data, vocab_size):\n",
    "    \"\"\"\n",
    "    Build part of the neural network\n",
    "    :param cell: RNN cell\n",
    "    :param rnn_size: Size of rnns\n",
    "    :param input_data: Input data\n",
    "    :param vocab_size: Vocabulary size\n",
    "    :return: Tuple (Logits, FinalState)\n",
    "    \"\"\"\n",
    "    embedding = get_embed(input_data, vocab_size, rnn_size)\n",
    "    outputs, state = build_rnn(cell, embedding)\n",
    "    logits = tf.contrib.layers.fully_connected(outputs, vocab_size, activation_fn=None)\n",
    "\n",
    "    return (logits, state)\n",
    "\n",
    "\"\"\"\n",
    "DON'T MODIFY ANYTHING IN THIS CELL THAT IS BELOW THIS LINE\n",
    "\"\"\"\n",
    "tests.test_build_nn(build_nn)"
   ]
  },
  {
   "cell_type": "markdown",
   "metadata": {
    "deletable": true,
    "editable": true
   },
   "source": [
    "### Batches\n",
    "Implement `get_batches` to create batches of input and targets using `int_text`.  The batches should be a Numpy array with the shape `(number of batches, 2, batch size, sequence length)`. Each batch contains two elements:\n",
    "- The first element is a single batch of **input** with the shape `[batch size, sequence length]`\n",
    "- The second element is a single batch of **targets** with the shape `[batch size, sequence length]`\n",
    "\n",
    "If you can't fill the last batch with enough data, drop the last batch.\n",
    "\n",
    "For exmple, `get_batches([1, 2, 3, 4, 5, 6, 7, 8, 9, 10, 11, 12, 13, 14, 15], 2, 3)` would return a Numpy array of the following:\n",
    "```\n",
    "[\n",
    "  # First Batch\n",
    "  [\n",
    "    # Batch of Input\n",
    "    [[ 1  2  3], [ 7  8  9]],\n",
    "    # Batch of targets\n",
    "    [[ 2  3  4], [ 8  9 10]]\n",
    "  ],\n",
    " \n",
    "  # Second Batch\n",
    "  [\n",
    "    # Batch of Input\n",
    "    [[ 4  5  6], [10 11 12]],\n",
    "    # Batch of targets\n",
    "    [[ 5  6  7], [11 12 13]]\n",
    "  ]\n",
    "]\n",
    "```"
   ]
  },
  {
   "cell_type": "code",
   "execution_count": 34,
   "metadata": {
    "collapsed": false,
    "deletable": true,
    "editable": true
   },
   "outputs": [
    {
     "name": "stdout",
     "output_type": "stream",
     "text": [
      "Tests Passed\n"
     ]
    }
   ],
   "source": [
    "def get_batches(int_text, batch_size, seq_length):\n",
    "    \"\"\"\n",
    "    Return batches of input and target\n",
    "    :param int_text: Text with the words replaced by their ids\n",
    "    :param batch_size: The size of batch\n",
    "    :param seq_length: The length of sequence\n",
    "    :return: Batches as a Numpy array\n",
    "    \"\"\"\n",
    "\n",
    "    batches = (len(int_text)-1) // (batch_size * seq_length)\n",
    "    int_text = np.array(int_text[:batches*(batch_size * seq_length)+1])\n",
    "    inputs = int_text[:-1].reshape(-1, batches, seq_length)\n",
    "    targets = int_text[1:].reshape(-1, batches, seq_length)\n",
    "    X = np.stack((inputs, targets))\n",
    "    return X.transpose(2, 0, 1, 3)\n",
    "\n",
    "\"\"\"\n",
    "DON'T MODIFY ANYTHING IN THIS CELL THAT IS BELOW THIS LINE\n",
    "\"\"\"\n",
    "tests.test_get_batches(get_batches)"
   ]
  },
  {
   "cell_type": "markdown",
   "metadata": {
    "deletable": true,
    "editable": true
   },
   "source": [
    "## Neural Network Training\n",
    "### Hyperparameters\n",
    "Tune the following parameters:\n",
    "\n",
    "- Set `num_epochs` to the number of epochs.\n",
    "- Set `batch_size` to the batch size.\n",
    "- Set `rnn_size` to the size of the RNNs.\n",
    "- Set `seq_length` to the length of sequence.\n",
    "- Set `learning_rate` to the learning rate.\n",
    "- Set `show_every_n_batches` to the number of batches the neural network should print progress."
   ]
  },
  {
   "cell_type": "code",
   "execution_count": 35,
   "metadata": {
    "collapsed": true,
    "deletable": true,
    "editable": true
   },
   "outputs": [],
   "source": [
    "# Number of Epochs\n",
    "num_epochs = 20\n",
    "# Batch Size\n",
    "batch_size = 100\n",
    "# RNN Size\n",
    "rnn_size = 128\n",
    "# Sequence Length\n",
    "seq_length = 7\n",
    "# Learning Rate\n",
    "learning_rate = 0.01\n",
    "# Show stats for every n number of batches\n",
    "show_every_n_batches = 10\n",
    "\n",
    "\"\"\"\n",
    "DON'T MODIFY ANYTHING IN THIS CELL THAT IS BELOW THIS LINE\n",
    "\"\"\"\n",
    "save_dir = './save'"
   ]
  },
  {
   "cell_type": "markdown",
   "metadata": {
    "deletable": true,
    "editable": true
   },
   "source": [
    "### Build the Graph\n",
    "Build the graph using the neural network you implemented."
   ]
  },
  {
   "cell_type": "code",
   "execution_count": 36,
   "metadata": {
    "collapsed": false,
    "deletable": true,
    "editable": true
   },
   "outputs": [],
   "source": [
    "\"\"\"\n",
    "DON'T MODIFY ANYTHING IN THIS CELL\n",
    "\"\"\"\n",
    "from tensorflow.contrib import seq2seq\n",
    "\n",
    "train_graph = tf.Graph()\n",
    "with train_graph.as_default():\n",
    "    vocab_size = len(int_to_vocab)\n",
    "    input_text, targets, lr = get_inputs()\n",
    "    input_data_shape = tf.shape(input_text)\n",
    "    cell, initial_state = get_init_cell(input_data_shape[0], rnn_size)\n",
    "    logits, final_state = build_nn(cell, rnn_size, input_text, vocab_size)\n",
    "\n",
    "    # Probabilities for generating words\n",
    "    probs = tf.nn.softmax(logits, name='probs')\n",
    "\n",
    "    # Loss function\n",
    "    cost = seq2seq.sequence_loss(\n",
    "        logits,\n",
    "        targets,\n",
    "        tf.ones([input_data_shape[0], input_data_shape[1]]))\n",
    "\n",
    "    # Optimizer\n",
    "    optimizer = tf.train.AdamOptimizer(lr)\n",
    "\n",
    "    # Gradient Clipping\n",
    "    gradients = optimizer.compute_gradients(cost)\n",
    "    capped_gradients = [(tf.clip_by_value(grad, -1., 1.), var) for grad, var in gradients]\n",
    "    train_op = optimizer.apply_gradients(capped_gradients)"
   ]
  },
  {
   "cell_type": "markdown",
   "metadata": {
    "deletable": true,
    "editable": true
   },
   "source": [
    "## Train\n",
    "Train the neural network on the preprocessed data.  If you have a hard time getting a good loss, check the [forms](https://discussions.udacity.com/) to see if anyone is having the same problem."
   ]
  },
  {
   "cell_type": "code",
   "execution_count": 37,
   "metadata": {
    "collapsed": false,
    "deletable": true,
    "editable": true
   },
   "outputs": [
    {
     "name": "stdout",
     "output_type": "stream",
     "text": [
      "Epoch   0 Batch    0/98   train_loss = 8.821\n",
      "Epoch   0 Batch   10/98   train_loss = 7.000\n",
      "Epoch   0 Batch   20/98   train_loss = 7.061\n",
      "Epoch   0 Batch   30/98   train_loss = 6.760\n",
      "Epoch   0 Batch   40/98   train_loss = 6.539\n",
      "Epoch   0 Batch   50/98   train_loss = 6.363\n",
      "Epoch   0 Batch   60/98   train_loss = 6.603\n",
      "Epoch   0 Batch   70/98   train_loss = 6.391\n",
      "Epoch   0 Batch   80/98   train_loss = 6.307\n",
      "Epoch   0 Batch   90/98   train_loss = 5.873\n",
      "Epoch   1 Batch    2/98   train_loss = 5.521\n",
      "Epoch   1 Batch   12/98   train_loss = 5.662\n",
      "Epoch   1 Batch   22/98   train_loss = 5.633\n",
      "Epoch   1 Batch   32/98   train_loss = 5.500\n",
      "Epoch   1 Batch   42/98   train_loss = 5.189\n",
      "Epoch   1 Batch   52/98   train_loss = 5.284\n",
      "Epoch   1 Batch   62/98   train_loss = 5.347\n",
      "Epoch   1 Batch   72/98   train_loss = 5.247\n",
      "Epoch   1 Batch   82/98   train_loss = 5.259\n",
      "Epoch   1 Batch   92/98   train_loss = 5.130\n",
      "Epoch   2 Batch    4/98   train_loss = 5.021\n",
      "Epoch   2 Batch   14/98   train_loss = 4.922\n",
      "Epoch   2 Batch   24/98   train_loss = 4.969\n",
      "Epoch   2 Batch   34/98   train_loss = 4.965\n",
      "Epoch   2 Batch   44/98   train_loss = 4.906\n",
      "Epoch   2 Batch   54/98   train_loss = 4.900\n",
      "Epoch   2 Batch   64/98   train_loss = 4.716\n",
      "Epoch   2 Batch   74/98   train_loss = 5.130\n",
      "Epoch   2 Batch   84/98   train_loss = 4.667\n",
      "Epoch   2 Batch   94/98   train_loss = 4.823\n",
      "Epoch   3 Batch    6/98   train_loss = 4.739\n",
      "Epoch   3 Batch   16/98   train_loss = 4.659\n",
      "Epoch   3 Batch   26/98   train_loss = 4.740\n",
      "Epoch   3 Batch   36/98   train_loss = 4.912\n",
      "Epoch   3 Batch   46/98   train_loss = 4.679\n",
      "Epoch   3 Batch   56/98   train_loss = 4.607\n",
      "Epoch   3 Batch   66/98   train_loss = 4.686\n",
      "Epoch   3 Batch   76/98   train_loss = 4.508\n",
      "Epoch   3 Batch   86/98   train_loss = 4.661\n",
      "Epoch   3 Batch   96/98   train_loss = 4.558\n",
      "Epoch   4 Batch    8/98   train_loss = 4.563\n",
      "Epoch   4 Batch   18/98   train_loss = 4.464\n",
      "Epoch   4 Batch   28/98   train_loss = 4.628\n",
      "Epoch   4 Batch   38/98   train_loss = 4.492\n",
      "Epoch   4 Batch   48/98   train_loss = 4.584\n",
      "Epoch   4 Batch   58/98   train_loss = 4.352\n",
      "Epoch   4 Batch   68/98   train_loss = 4.550\n",
      "Epoch   4 Batch   78/98   train_loss = 4.638\n",
      "Epoch   4 Batch   88/98   train_loss = 4.246\n",
      "Epoch   5 Batch    0/98   train_loss = 4.449\n",
      "Epoch   5 Batch   10/98   train_loss = 4.433\n",
      "Epoch   5 Batch   20/98   train_loss = 4.530\n",
      "Epoch   5 Batch   30/98   train_loss = 4.309\n",
      "Epoch   5 Batch   40/98   train_loss = 4.278\n",
      "Epoch   5 Batch   50/98   train_loss = 4.271\n",
      "Epoch   5 Batch   60/98   train_loss = 4.430\n",
      "Epoch   5 Batch   70/98   train_loss = 4.357\n",
      "Epoch   5 Batch   80/98   train_loss = 4.396\n",
      "Epoch   5 Batch   90/98   train_loss = 4.101\n",
      "Epoch   6 Batch    2/98   train_loss = 4.130\n",
      "Epoch   6 Batch   12/98   train_loss = 4.278\n",
      "Epoch   6 Batch   22/98   train_loss = 4.309\n",
      "Epoch   6 Batch   32/98   train_loss = 4.234\n",
      "Epoch   6 Batch   42/98   train_loss = 3.950\n",
      "Epoch   6 Batch   52/98   train_loss = 4.070\n",
      "Epoch   6 Batch   62/98   train_loss = 4.198\n",
      "Epoch   6 Batch   72/98   train_loss = 4.280\n",
      "Epoch   6 Batch   82/98   train_loss = 4.267\n",
      "Epoch   6 Batch   92/98   train_loss = 4.128\n",
      "Epoch   7 Batch    4/98   train_loss = 4.098\n",
      "Epoch   7 Batch   14/98   train_loss = 4.031\n",
      "Epoch   7 Batch   24/98   train_loss = 4.081\n",
      "Epoch   7 Batch   34/98   train_loss = 4.044\n",
      "Epoch   7 Batch   44/98   train_loss = 4.037\n",
      "Epoch   7 Batch   54/98   train_loss = 4.043\n",
      "Epoch   7 Batch   64/98   train_loss = 3.885\n",
      "Epoch   7 Batch   74/98   train_loss = 4.187\n",
      "Epoch   7 Batch   84/98   train_loss = 3.902\n",
      "Epoch   7 Batch   94/98   train_loss = 4.042\n",
      "Epoch   8 Batch    6/98   train_loss = 3.985\n",
      "Epoch   8 Batch   16/98   train_loss = 3.878\n",
      "Epoch   8 Batch   26/98   train_loss = 3.882\n",
      "Epoch   8 Batch   36/98   train_loss = 4.106\n",
      "Epoch   8 Batch   46/98   train_loss = 3.951\n",
      "Epoch   8 Batch   56/98   train_loss = 3.903\n",
      "Epoch   8 Batch   66/98   train_loss = 3.934\n",
      "Epoch   8 Batch   76/98   train_loss = 3.792\n",
      "Epoch   8 Batch   86/98   train_loss = 3.853\n",
      "Epoch   8 Batch   96/98   train_loss = 3.808\n",
      "Epoch   9 Batch    8/98   train_loss = 3.870\n",
      "Epoch   9 Batch   18/98   train_loss = 3.789\n",
      "Epoch   9 Batch   28/98   train_loss = 3.897\n",
      "Epoch   9 Batch   38/98   train_loss = 3.819\n",
      "Epoch   9 Batch   48/98   train_loss = 3.831\n",
      "Epoch   9 Batch   58/98   train_loss = 3.762\n",
      "Epoch   9 Batch   68/98   train_loss = 3.873\n",
      "Epoch   9 Batch   78/98   train_loss = 3.896\n",
      "Epoch   9 Batch   88/98   train_loss = 3.631\n",
      "Epoch  10 Batch    0/98   train_loss = 3.777\n",
      "Epoch  10 Batch   10/98   train_loss = 3.681\n",
      "Epoch  10 Batch   20/98   train_loss = 3.788\n",
      "Epoch  10 Batch   30/98   train_loss = 3.742\n",
      "Epoch  10 Batch   40/98   train_loss = 3.626\n",
      "Epoch  10 Batch   50/98   train_loss = 3.622\n",
      "Epoch  10 Batch   60/98   train_loss = 3.771\n",
      "Epoch  10 Batch   70/98   train_loss = 3.594\n",
      "Epoch  10 Batch   80/98   train_loss = 3.695\n",
      "Epoch  10 Batch   90/98   train_loss = 3.442\n",
      "Epoch  11 Batch    2/98   train_loss = 3.507\n",
      "Epoch  11 Batch   12/98   train_loss = 3.664\n",
      "Epoch  11 Batch   22/98   train_loss = 3.619\n",
      "Epoch  11 Batch   32/98   train_loss = 3.529\n",
      "Epoch  11 Batch   42/98   train_loss = 3.228\n",
      "Epoch  11 Batch   52/98   train_loss = 3.464\n",
      "Epoch  11 Batch   62/98   train_loss = 3.572\n",
      "Epoch  11 Batch   72/98   train_loss = 3.651\n",
      "Epoch  11 Batch   82/98   train_loss = 3.581\n",
      "Epoch  11 Batch   92/98   train_loss = 3.371\n",
      "Epoch  12 Batch    4/98   train_loss = 3.493\n",
      "Epoch  12 Batch   14/98   train_loss = 3.434\n",
      "Epoch  12 Batch   24/98   train_loss = 3.404\n",
      "Epoch  12 Batch   34/98   train_loss = 3.488\n",
      "Epoch  12 Batch   44/98   train_loss = 3.406\n",
      "Epoch  12 Batch   54/98   train_loss = 3.379\n",
      "Epoch  12 Batch   64/98   train_loss = 3.311\n",
      "Epoch  12 Batch   74/98   train_loss = 3.478\n",
      "Epoch  12 Batch   84/98   train_loss = 3.267\n",
      "Epoch  12 Batch   94/98   train_loss = 3.299\n",
      "Epoch  13 Batch    6/98   train_loss = 3.378\n",
      "Epoch  13 Batch   16/98   train_loss = 3.406\n",
      "Epoch  13 Batch   26/98   train_loss = 3.303\n",
      "Epoch  13 Batch   36/98   train_loss = 3.490\n",
      "Epoch  13 Batch   46/98   train_loss = 3.305\n",
      "Epoch  13 Batch   56/98   train_loss = 3.223\n",
      "Epoch  13 Batch   66/98   train_loss = 3.266\n",
      "Epoch  13 Batch   76/98   train_loss = 3.206\n",
      "Epoch  13 Batch   86/98   train_loss = 3.131\n",
      "Epoch  13 Batch   96/98   train_loss = 3.332\n",
      "Epoch  14 Batch    8/98   train_loss = 3.296\n",
      "Epoch  14 Batch   18/98   train_loss = 3.306\n",
      "Epoch  14 Batch   28/98   train_loss = 3.318\n",
      "Epoch  14 Batch   38/98   train_loss = 3.323\n",
      "Epoch  14 Batch   48/98   train_loss = 3.341\n",
      "Epoch  14 Batch   58/98   train_loss = 3.277\n",
      "Epoch  14 Batch   68/98   train_loss = 3.316\n",
      "Epoch  14 Batch   78/98   train_loss = 3.363\n",
      "Epoch  14 Batch   88/98   train_loss = 3.195\n",
      "Epoch  15 Batch    0/98   train_loss = 3.187\n",
      "Epoch  15 Batch   10/98   train_loss = 3.101\n",
      "Epoch  15 Batch   20/98   train_loss = 3.338\n",
      "Epoch  15 Batch   30/98   train_loss = 3.228\n",
      "Epoch  15 Batch   40/98   train_loss = 3.266\n",
      "Epoch  15 Batch   50/98   train_loss = 3.194\n",
      "Epoch  15 Batch   60/98   train_loss = 3.300\n",
      "Epoch  15 Batch   70/98   train_loss = 3.149\n",
      "Epoch  15 Batch   80/98   train_loss = 3.191\n",
      "Epoch  15 Batch   90/98   train_loss = 2.962\n",
      "Epoch  16 Batch    2/98   train_loss = 3.037\n",
      "Epoch  16 Batch   12/98   train_loss = 3.207\n",
      "Epoch  16 Batch   22/98   train_loss = 3.172\n",
      "Epoch  16 Batch   32/98   train_loss = 3.013\n",
      "Epoch  16 Batch   42/98   train_loss = 2.910\n",
      "Epoch  16 Batch   52/98   train_loss = 3.154\n",
      "Epoch  16 Batch   62/98   train_loss = 3.190\n",
      "Epoch  16 Batch   72/98   train_loss = 3.109\n",
      "Epoch  16 Batch   82/98   train_loss = 3.156\n",
      "Epoch  16 Batch   92/98   train_loss = 2.888\n",
      "Epoch  17 Batch    4/98   train_loss = 2.921\n",
      "Epoch  17 Batch   14/98   train_loss = 2.968\n",
      "Epoch  17 Batch   24/98   train_loss = 2.941\n",
      "Epoch  17 Batch   34/98   train_loss = 2.961\n",
      "Epoch  17 Batch   44/98   train_loss = 2.961\n",
      "Epoch  17 Batch   54/98   train_loss = 3.011\n",
      "Epoch  17 Batch   64/98   train_loss = 2.889\n",
      "Epoch  17 Batch   74/98   train_loss = 2.965\n",
      "Epoch  17 Batch   84/98   train_loss = 2.824\n",
      "Epoch  17 Batch   94/98   train_loss = 2.852\n",
      "Epoch  18 Batch    6/98   train_loss = 2.865\n",
      "Epoch  18 Batch   16/98   train_loss = 2.919\n",
      "Epoch  18 Batch   26/98   train_loss = 2.792\n",
      "Epoch  18 Batch   36/98   train_loss = 2.900\n",
      "Epoch  18 Batch   46/98   train_loss = 2.832\n",
      "Epoch  18 Batch   56/98   train_loss = 2.829\n",
      "Epoch  18 Batch   66/98   train_loss = 2.883\n",
      "Epoch  18 Batch   76/98   train_loss = 2.766\n",
      "Epoch  18 Batch   86/98   train_loss = 2.747\n",
      "Epoch  18 Batch   96/98   train_loss = 2.843\n",
      "Epoch  19 Batch    8/98   train_loss = 2.776\n",
      "Epoch  19 Batch   18/98   train_loss = 2.751\n",
      "Epoch  19 Batch   28/98   train_loss = 2.825\n",
      "Epoch  19 Batch   38/98   train_loss = 2.872\n",
      "Epoch  19 Batch   48/98   train_loss = 2.970\n",
      "Epoch  19 Batch   58/98   train_loss = 2.897\n",
      "Epoch  19 Batch   68/98   train_loss = 2.830\n",
      "Epoch  19 Batch   78/98   train_loss = 2.774\n",
      "Epoch  19 Batch   88/98   train_loss = 2.691\n",
      "Model Trained and Saved\n"
     ]
    }
   ],
   "source": [
    "\"\"\"\n",
    "DON'T MODIFY ANYTHING IN THIS CELL\n",
    "\"\"\"\n",
    "batches = get_batches(int_text, batch_size, seq_length)\n",
    "\n",
    "with tf.Session(graph=train_graph) as sess:\n",
    "    sess.run(tf.global_variables_initializer())\n",
    "\n",
    "    for epoch_i in range(num_epochs):\n",
    "        state = sess.run(initial_state, {input_text: batches[0][0]})\n",
    "\n",
    "        for batch_i, (x, y) in enumerate(batches):\n",
    "            feed = {\n",
    "                input_text: x,\n",
    "                targets: y,\n",
    "                initial_state: state,\n",
    "                lr: learning_rate}\n",
    "            train_loss, state, _ = sess.run([cost, final_state, train_op], feed)\n",
    "\n",
    "            # Show every <show_every_n_batches> batches\n",
    "            if (epoch_i * len(batches) + batch_i) % show_every_n_batches == 0:\n",
    "                print('Epoch {:>3} Batch {:>4}/{}   train_loss = {:.3f}'.format(\n",
    "                    epoch_i,\n",
    "                    batch_i,\n",
    "                    len(batches),\n",
    "                    train_loss))\n",
    "\n",
    "    # Save Model\n",
    "    saver = tf.train.Saver()\n",
    "    saver.save(sess, save_dir)\n",
    "    print('Model Trained and Saved')"
   ]
  },
  {
   "cell_type": "markdown",
   "metadata": {
    "deletable": true,
    "editable": true
   },
   "source": [
    "## Save Parameters\n",
    "Save `seq_length` and `save_dir` for generating a new TV script."
   ]
  },
  {
   "cell_type": "code",
   "execution_count": 41,
   "metadata": {
    "collapsed": false,
    "deletable": true,
    "editable": true
   },
   "outputs": [],
   "source": [
    "\"\"\"\n",
    "DON'T MODIFY ANYTHING IN THIS CELL\n",
    "\"\"\"\n",
    "# Save parameters for checkpoint\n",
    "helper.save_params((seq_length, save_dir))"
   ]
  },
  {
   "cell_type": "markdown",
   "metadata": {
    "deletable": true,
    "editable": true
   },
   "source": [
    "# Checkpoint"
   ]
  },
  {
   "cell_type": "code",
   "execution_count": 42,
   "metadata": {
    "collapsed": false,
    "deletable": true,
    "editable": true
   },
   "outputs": [],
   "source": [
    "\"\"\"\n",
    "DON'T MODIFY ANYTHING IN THIS CELL\n",
    "\"\"\"\n",
    "import tensorflow as tf\n",
    "import numpy as np\n",
    "import helper\n",
    "import problem_unittests as tests\n",
    "\n",
    "_, vocab_to_int, int_to_vocab, token_dict = helper.load_preprocess()\n",
    "seq_length, load_dir = helper.load_params()"
   ]
  },
  {
   "cell_type": "markdown",
   "metadata": {
    "deletable": true,
    "editable": true
   },
   "source": [
    "## Implement Generate Functions\n",
    "### Get Tensors\n",
    "Get tensors from `loaded_graph` using the function [`get_tensor_by_name()`](https://www.tensorflow.org/api_docs/python/tf/Graph#get_tensor_by_name).  Get the tensors using the following names:\n",
    "- \"input:0\"\n",
    "- \"initial_state:0\"\n",
    "- \"final_state:0\"\n",
    "- \"probs:0\"\n",
    "\n",
    "Return the tensors in the following tuple `(InputTensor, InitialStateTensor, FinalStateTensor, ProbsTensor)` "
   ]
  },
  {
   "cell_type": "code",
   "execution_count": 43,
   "metadata": {
    "collapsed": false,
    "deletable": true,
    "editable": true
   },
   "outputs": [
    {
     "name": "stdout",
     "output_type": "stream",
     "text": [
      "Tests Passed\n"
     ]
    }
   ],
   "source": [
    "def get_tensors(loaded_graph):\n",
    "    \"\"\"\n",
    "    Get input, initial state, final state, and probabilities tensor from <loaded_graph>\n",
    "    :param loaded_graph: TensorFlow graph loaded from file\n",
    "    :return: Tuple (InputTensor, InitialStateTensor, FinalStateTensor, ProbsTensor)\n",
    "    \"\"\"\n",
    "    t_input = loaded_graph.get_tensor_by_name(\"input:0\")\n",
    "    t_initial_state = loaded_graph.get_tensor_by_name(\"initial_state:0\")\n",
    "    t_final_state = loaded_graph.get_tensor_by_name(\"final_state:0\")\n",
    "    t_probs = loaded_graph.get_tensor_by_name(\"probs:0\")\n",
    "    return (t_input, t_initial_state, t_final_state, t_probs)\n",
    "\n",
    "\"\"\"\n",
    "DON'T MODIFY ANYTHING IN THIS CELL THAT IS BELOW THIS LINE\n",
    "\"\"\"\n",
    "tests.test_get_tensors(get_tensors)"
   ]
  },
  {
   "cell_type": "markdown",
   "metadata": {
    "deletable": true,
    "editable": true
   },
   "source": [
    "### Choose Word\n",
    "Implement the `pick_word()` function to select the next word using `probabilities`."
   ]
  },
  {
   "cell_type": "code",
   "execution_count": 47,
   "metadata": {
    "collapsed": false,
    "deletable": true,
    "editable": true
   },
   "outputs": [
    {
     "name": "stdout",
     "output_type": "stream",
     "text": [
      "Tests Passed\n"
     ]
    }
   ],
   "source": [
    "def pick_word(probabilities, int_to_vocab):\n",
    "    \"\"\"\n",
    "    Pick the next word in the generated text\n",
    "    :param probabilities: Probabilites of the next word\n",
    "    :param int_to_vocab: Dictionary of word ids as the keys and words as the values\n",
    "    :return: String of the predicted word\n",
    "    \"\"\"\n",
    "    return int_to_vocab.get(np.random.choice(len(probabilities), p=probabilities))\n",
    "\n",
    "\n",
    "\"\"\"\n",
    "DON'T MODIFY ANYTHING IN THIS CELL THAT IS BELOW THIS LINE\n",
    "\"\"\"\n",
    "tests.test_pick_word(pick_word)"
   ]
  },
  {
   "cell_type": "markdown",
   "metadata": {
    "deletable": true,
    "editable": true
   },
   "source": [
    "## Generate TV Script\n",
    "This will generate the TV script for you.  Set `gen_length` to the length of TV script you want to generate."
   ]
  },
  {
   "cell_type": "code",
   "execution_count": 48,
   "metadata": {
    "collapsed": false,
    "deletable": true,
    "editable": true
   },
   "outputs": [
    {
     "name": "stdout",
     "output_type": "stream",
     "text": [
      "moe_szyslak: i'unno. what?\n",
      "marge_simpson: thanks, i loves me. when you know how to you, this.\n",
      "moe_szyslak: does you get a family restaurant.\n",
      "lenny_leonard:(getting nervous down) yeah, good kid, walking bad!\n",
      "homer_simpson: okay, get a minute i got giving the pope.\n",
      "moe_szyslak:(shaking book). i got a drunk, reads treasure you with one of those people act been 6 the song hotline.\n",
      "carl_carlson: why never gum to kiss?\n",
      "moe_szyslak: you'll would you better drive.\n",
      "homer_simpson: hey god!\n",
      "3rd_voice: my heart(to barney, moe) yeah, james cheerier the first man!\n",
      "bart_simpson:(threatening) my dad has gotten so great.\n",
      "waylon_smithers: yeah, non-losers. we got here.\n",
      "moe_szyslak: aw, this thing is beating a little rope.\n",
      "homer_simpson: well, why stupid how low.\n",
      "carl_carlson:(no & book) quit boy, more book, the little girl buyin', totally daddy, i want like there those been choice.\n",
      "lenny_leonard:(hit\n"
     ]
    }
   ],
   "source": [
    "gen_length = 200\n",
    "# homer_simpson, moe_szyslak, or Barney_Gumble\n",
    "prime_word = 'moe_szyslak'\n",
    "\n",
    "\"\"\"\n",
    "DON'T MODIFY ANYTHING IN THIS CELL THAT IS BELOW THIS LINE\n",
    "\"\"\"\n",
    "loaded_graph = tf.Graph()\n",
    "with tf.Session(graph=loaded_graph) as sess:\n",
    "    # Load saved model\n",
    "    loader = tf.train.import_meta_graph(load_dir + '.meta')\n",
    "    loader.restore(sess, load_dir)\n",
    "\n",
    "    # Get Tensors from loaded model\n",
    "    input_text, initial_state, final_state, probs = get_tensors(loaded_graph)\n",
    "\n",
    "    # Sentences generation setup\n",
    "    gen_sentences = [prime_word + ':']\n",
    "    prev_state = sess.run(initial_state, {input_text: np.array([[1]])})\n",
    "\n",
    "    # Generate sentences\n",
    "    for n in range(gen_length):\n",
    "        # Dynamic Input\n",
    "        dyn_input = [[vocab_to_int[word] for word in gen_sentences[-seq_length:]]]\n",
    "        dyn_seq_length = len(dyn_input[0])\n",
    "\n",
    "        # Get Prediction\n",
    "        probabilities, prev_state = sess.run(\n",
    "            [probs, final_state],\n",
    "            {input_text: dyn_input, initial_state: prev_state})\n",
    "        \n",
    "        pred_word = pick_word(probabilities[dyn_seq_length-1], int_to_vocab)\n",
    "\n",
    "        gen_sentences.append(pred_word)\n",
    "    \n",
    "    # Remove tokens\n",
    "    tv_script = ' '.join(gen_sentences)\n",
    "    for key, token in token_dict.items():\n",
    "        ending = ' ' if key in ['\\n', '(', '\"'] else ''\n",
    "        tv_script = tv_script.replace(' ' + token.lower(), key)\n",
    "    tv_script = tv_script.replace('\\n ', '\\n')\n",
    "    tv_script = tv_script.replace('( ', '(')\n",
    "        \n",
    "    print(tv_script)"
   ]
  },
  {
   "cell_type": "markdown",
   "metadata": {
    "deletable": true,
    "editable": true
   },
   "source": [
    "# The TV Script is Nonsensical\n",
    "It's ok if the TV script doesn't make any sense.  We trained on less than a megabyte of text.  In order to get good results, you'll have to use a smaller vocabulary or get more data.  Luckly there's more data!  As we mentioned in the begging of this project, this is a subset of [another dataset](https://www.kaggle.com/wcukierski/the-simpsons-by-the-data).  We didn't have you train on all the data, because that would take too long.  However, you are free to train your neural network on all the data.  After you complete the project, of course.\n",
    "# Submitting This Project\n",
    "When submitting this project, make sure to run all the cells before saving the notebook. Save the notebook file as \"dlnd_tv_script_generation.ipynb\" and save it as a HTML file under \"File\" -> \"Download as\". Include the \"helper.py\" and \"problem_unittests.py\" files in your submission."
   ]
  }
 ],
 "metadata": {
  "anaconda-cloud": {},
  "kernelspec": {
   "display_name": "Python [research]",
   "language": "python",
   "name": "Python [research]"
  },
  "language_info": {
   "codemirror_mode": {
    "name": "ipython",
    "version": 3
   },
   "file_extension": ".py",
   "mimetype": "text/x-python",
   "name": "python",
   "nbconvert_exporter": "python",
   "pygments_lexer": "ipython3",
   "version": "3.5.2"
  },
  "widgets": {
   "state": {},
   "version": "1.1.2"
  }
 },
 "nbformat": 4,
 "nbformat_minor": 0
}
